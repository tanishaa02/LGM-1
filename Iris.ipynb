{
  "nbformat": 4,
  "nbformat_minor": 0,
  "metadata": {
    "colab": {
      "provenance": [],
      "authorship_tag": "ABX9TyOcs+cWxNwVEnMxXcniZuVJ",
      "include_colab_link": true
    },
    "kernelspec": {
      "name": "python3",
      "display_name": "Python 3"
    },
    "language_info": {
      "name": "python"
    }
  },
  "cells": [
    {
      "cell_type": "markdown",
      "metadata": {
        "id": "view-in-github",
        "colab_type": "text"
      },
      "source": [
        "<a href=\"https://colab.research.google.com/github/tanishaa02/LGM-1/blob/main/Iris.ipynb\" target=\"_parent\"><img src=\"https://colab.research.google.com/assets/colab-badge.svg\" alt=\"Open In Colab\"/></a>"
      ]
    },
    {
      "cell_type": "code",
      "execution_count": null,
      "metadata": {
        "id": "xpYbWf-laSic"
      },
      "outputs": [],
      "source": [
        "from google.colab import drive"
      ]
    },
    {
      "cell_type": "code",
      "source": [
        "drive.mount('/content/drive')"
      ],
      "metadata": {
        "colab": {
          "base_uri": "https://localhost:8080/"
        },
        "id": "MTAFgyUgeZpE",
        "outputId": "6bb41034-19eb-4fca-b64a-1a8176743a6b"
      },
      "execution_count": null,
      "outputs": [
        {
          "output_type": "stream",
          "name": "stdout",
          "text": [
            "Drive already mounted at /content/drive; to attempt to forcibly remount, call drive.mount(\"/content/drive\", force_remount=True).\n"
          ]
        }
      ]
    },
    {
      "cell_type": "code",
      "source": [
        "import pandas as pd"
      ],
      "metadata": {
        "id": "GCtSLfxMg4UO"
      },
      "execution_count": null,
      "outputs": []
    },
    {
      "cell_type": "code",
      "source": [
        "data=pd.read_csv('/content/drive/MyDrive/Data-ML/bezdekIris.data')"
      ],
      "metadata": {
        "id": "I_PYLZhnjyxX"
      },
      "execution_count": null,
      "outputs": []
    },
    {
      "cell_type": "code",
      "source": [
        "data.head()"
      ],
      "metadata": {
        "id": "5FYIPCQ0kCpp"
      },
      "execution_count": null,
      "outputs": []
    },
    {
      "cell_type": "code",
      "source": [
        "import numpy as np\n",
        "import matplotlib.pyplot as plt\n",
        "import seaborn as sns\n",
        "import os\n",
        "import pandas as pd"
      ],
      "metadata": {
        "id": "t4R3hMznkJ5j"
      },
      "execution_count": null,
      "outputs": []
    },
    {
      "cell_type": "code",
      "source": [
        "columns=['Sepal length','Sepal width','Petal length','Petal width','Class_Labels']\n",
        "data=pd.read_csv('/content/drive/MyDrive/Data-ML/bezdekIris.data',names=columns)\n",
        "data.head()"
      ],
      "metadata": {
        "id": "RqJz2_v8nIo-"
      },
      "execution_count": null,
      "outputs": []
    },
    {
      "cell_type": "code",
      "source": [
        "sns.pairplot(data,hue='Class_Labels')"
      ],
      "metadata": {
        "id": "SriEOl9NohWJ"
      },
      "execution_count": null,
      "outputs": []
    },
    {
      "cell_type": "code",
      "source": [
        "df=data.values\n",
        "X=df[:,0:4]\n",
        "Y=df[:,4]\n",
        "print(Y)"
      ],
      "metadata": {
        "id": "MR0YJhcEowD-"
      },
      "execution_count": null,
      "outputs": []
    },
    {
      "cell_type": "code",
      "source": [
        "from sklearn.model_selection import train_test_split\n",
        "x_train, x_test, y_train, y_test=train_test_split(X,Y, test_size=0.2)\n",
        "print(y_test)"
      ],
      "metadata": {
        "id": "hxmXtgcvqtGB"
      },
      "execution_count": null,
      "outputs": []
    },
    {
      "cell_type": "code",
      "source": [
        "from sklearn.linear_model import LogisticRegression\n",
        "model_LR=LogisticRegression()\n",
        "model_LR.fit(x_train,y_train)"
      ],
      "metadata": {
        "id": "HWyTOtynBJdy"
      },
      "execution_count": null,
      "outputs": []
    },
    {
      "cell_type": "code",
      "source": [
        "prediction=model_LR.predict(x_test)\n",
        "from sklearn.metrics import accuracy_score\n",
        "print(accuracy_score(y_test,prediction)*100)\n",
        "for i in range(len(prediction)):\n",
        "  print(y_test[i],prediction[i])"
      ],
      "metadata": {
        "id": "hwfLWyVaFYWk"
      },
      "execution_count": null,
      "outputs": []
    },
    {
      "cell_type": "code",
      "source": [],
      "metadata": {
        "id": "P-die_nZF8T8"
      },
      "execution_count": null,
      "outputs": []
    }
  ]
}